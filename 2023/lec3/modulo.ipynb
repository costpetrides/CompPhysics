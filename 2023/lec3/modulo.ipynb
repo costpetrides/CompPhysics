{
 "cells": [
  {
   "cell_type": "code",
   "execution_count": 47,
   "id": "98a690b0",
   "metadata": {},
   "outputs": [
    {
     "name": "stdout",
     "output_type": "stream",
     "text": [
      "20mod(1) = 0\n",
      "20mod(2) = 0\n",
      "20mod(3) = 2\n",
      "20mod(4) = 0\n",
      "20mod(5) = 0\n",
      "20mod(6) = 2\n",
      "20mod(7) = 6\n",
      "20mod(8) = 4\n",
      "20mod(9) = 2\n",
      "20mod(10) = 0\n",
      "20mod(11) = 9\n",
      "20mod(12) = 8\n",
      "20mod(13) = 7\n",
      "20mod(14) = 6\n",
      "20mod(15) = 5\n",
      "20mod(16) = 4\n",
      "20mod(17) = 3\n",
      "20mod(18) = 2\n",
      "20mod(19) = 1\n",
      "20mod(20) = 0\n",
      "20mod(21) = 20\n",
      "20mod(22) = 20\n",
      "20mod(23) = 20\n",
      "20mod(24) = 20\n",
      "20mod(25) = 20\n",
      "20mod(26) = 20\n",
      "20mod(27) = 20\n",
      "20mod(28) = 20\n",
      "20mod(29) = 20\n",
      "20mod(30) = 20\n",
      "20mod(31) = 20\n",
      "20mod(32) = 20\n",
      "20mod(33) = 20\n",
      "20mod(34) = 20\n",
      "20mod(35) = 20\n",
      "20mod(36) = 20\n",
      "20mod(37) = 20\n",
      "20mod(38) = 20\n",
      "20mod(39) = 20\n"
     ]
    }
   ],
   "source": [
    "for i in range(1,40):\n",
    "    #print('i =', i, '20%i =', 20%i)\n",
    "    print('20mod(%d) = %d'%(i, 20%i))"
   ]
  },
  {
   "cell_type": "code",
   "execution_count": null,
   "id": "7bc8763e",
   "metadata": {},
   "outputs": [],
   "source": []
  }
 ],
 "metadata": {
  "kernelspec": {
   "display_name": "Python 3 (ipykernel)",
   "language": "python",
   "name": "python3"
  },
  "language_info": {
   "codemirror_mode": {
    "name": "ipython",
    "version": 3
   },
   "file_extension": ".py",
   "mimetype": "text/x-python",
   "name": "python",
   "nbconvert_exporter": "python",
   "pygments_lexer": "ipython3",
   "version": "3.10.9"
  }
 },
 "nbformat": 4,
 "nbformat_minor": 5
}
