{
 "cells": [
  {
   "cell_type": "code",
   "execution_count": 1,
   "id": "94483fa8",
   "metadata": {},
   "outputs": [],
   "source": [
    "def f(x):\n",
    "    return (16807*x)%(2**31 - 1)"
   ]
  },
  {
   "cell_type": "code",
   "execution_count": 25,
   "id": "1f0bf0d1",
   "metadata": {},
   "outputs": [],
   "source": [
    "x  = 333\n",
    "xs = []  # [333, 5596731, ...]\n",
    "randoms = [] \n",
    "for i in range(100000):\n",
    "    #print(x, f(x))\n",
    "    xs += [x] #xs = xs + [x] # xs.append(x)\n",
    "    randoms += [x/(2**31-1)]\n",
    "    x = f(x)\n",
    "    \n",
    "#xs"
   ]
  },
  {
   "cell_type": "code",
   "execution_count": 36,
   "id": "cb816ed1",
   "metadata": {},
   "outputs": [
    {
     "data": {
      "text/plain": [
       "(array([ 964.,  973., 1048.,  937., 1024.,  976.,  956., 1030.,  990.,\n",
       "        1052., 1013., 1067., 1036.,  965.,  984.,  990.,  973.,  986.,\n",
       "        1101.,  953., 1039.,  949., 1057., 1027.,  965., 1008., 1002.,\n",
       "         999., 1051., 1037., 1044.,  999.,  967., 1017.,  990., 1023.,\n",
       "         930.,  994.,  947., 1021., 1044., 1009., 1020., 1042., 1052.,\n",
       "         965.,  995.,  997.,  963.,  995., 1024., 1004.,  970.,  999.,\n",
       "         993., 1003.,  955.,  973., 1016., 1004., 1023., 1029.,  987.,\n",
       "         994.,  967.,  914., 1059., 1040., 1004., 1012., 1052.,  996.,\n",
       "         979.,  984., 1010.,  976., 1006.,  947.,  959.,  956., 1030.,\n",
       "         991., 1023.,  993., 1043.,  983.,  985.,  997.,  979.,  999.,\n",
       "        1023., 1041., 1023.,  961.,  967.,  988., 1024., 1034.,  938.,\n",
       "         977.]),\n",
       " array([1.55065209e-07, 9.99997364e-03, 1.99997922e-02, 2.99996108e-02,\n",
       "        3.99994294e-02, 4.99992479e-02, 5.99990665e-02, 6.99988851e-02,\n",
       "        7.99987037e-02, 8.99985222e-02, 9.99983408e-02, 1.09998159e-01,\n",
       "        1.19997978e-01, 1.29997797e-01, 1.39997615e-01, 1.49997434e-01,\n",
       "        1.59997252e-01, 1.69997071e-01, 1.79996889e-01, 1.89996708e-01,\n",
       "        1.99996527e-01, 2.09996345e-01, 2.19996164e-01, 2.29995982e-01,\n",
       "        2.39995801e-01, 2.49995619e-01, 2.59995438e-01, 2.69995257e-01,\n",
       "        2.79995075e-01, 2.89994894e-01, 2.99994712e-01, 3.09994531e-01,\n",
       "        3.19994349e-01, 3.29994168e-01, 3.39993987e-01, 3.49993805e-01,\n",
       "        3.59993624e-01, 3.69993442e-01, 3.79993261e-01, 3.89993079e-01,\n",
       "        3.99992898e-01, 4.09992717e-01, 4.19992535e-01, 4.29992354e-01,\n",
       "        4.39992172e-01, 4.49991991e-01, 4.59991809e-01, 4.69991628e-01,\n",
       "        4.79991447e-01, 4.89991265e-01, 4.99991084e-01, 5.09990902e-01,\n",
       "        5.19990721e-01, 5.29990539e-01, 5.39990358e-01, 5.49990177e-01,\n",
       "        5.59989995e-01, 5.69989814e-01, 5.79989632e-01, 5.89989451e-01,\n",
       "        5.99989269e-01, 6.09989088e-01, 6.19988907e-01, 6.29988725e-01,\n",
       "        6.39988544e-01, 6.49988362e-01, 6.59988181e-01, 6.69988000e-01,\n",
       "        6.79987818e-01, 6.89987637e-01, 6.99987455e-01, 7.09987274e-01,\n",
       "        7.19987092e-01, 7.29986911e-01, 7.39986730e-01, 7.49986548e-01,\n",
       "        7.59986367e-01, 7.69986185e-01, 7.79986004e-01, 7.89985822e-01,\n",
       "        7.99985641e-01, 8.09985460e-01, 8.19985278e-01, 8.29985097e-01,\n",
       "        8.39984915e-01, 8.49984734e-01, 8.59984552e-01, 8.69984371e-01,\n",
       "        8.79984190e-01, 8.89984008e-01, 8.99983827e-01, 9.09983645e-01,\n",
       "        9.19983464e-01, 9.29983282e-01, 9.39983101e-01, 9.49982920e-01,\n",
       "        9.59982738e-01, 9.69982557e-01, 9.79982375e-01, 9.89982194e-01,\n",
       "        9.99982012e-01]),\n",
       " <BarContainer object of 100 artists>)"
      ]
     },
     "execution_count": 36,
     "metadata": {},
     "output_type": "execute_result"
    },
    {
     "data": {
      "image/png": "[encoded data removed]",
      "text/plain": [
       "<Figure size 640x480 with 1 Axes>"
      ]
     },
     "metadata": {},
     "output_type": "display_data"
    }
   ],
   "source": [
    "import matplotlib.pyplot as plt\n",
    "plt.hist(randoms, bins = 100, ec = 'black')"
   ]
  },
  {
   "cell_type": "code",
   "execution_count": 27,
   "id": "23bff57a",
   "metadata": {},
   "outputs": [],
   "source": [
    "import numpy as np"
   ]
  },
  {
   "cell_type": "code",
   "execution_count": 33,
   "id": "29398890",
   "metadata": {},
   "outputs": [
    {
     "data": {
      "text/plain": [
       "0.31993041788180576"
      ]
     },
     "execution_count": 33,
     "metadata": {},
     "output_type": "execute_result"
    }
   ],
   "source": [
    "np.random.rand()"
   ]
  },
  {
   "cell_type": "code",
   "execution_count": 35,
   "id": "46800904",
   "metadata": {},
   "outputs": [],
   "source": [
    "# np.load() instructions"
   ]
  },
  {
   "cell_type": "code",
   "execution_count": null,
   "id": "851cabb6",
   "metadata": {},
   "outputs": [],
   "source": []
  }
 ],
 "metadata": {
  "kernelspec": {
   "display_name": "Python 3 (ipykernel)",
   "language": "python",
   "name": "python3"
  },
  "language_info": {
   "codemirror_mode": {
    "name": "ipython",
    "version": 3
   },
   "file_extension": ".py",
   "mimetype": "text/x-python",
   "name": "python",
   "nbconvert_exporter": "python",
   "pygments_lexer": "ipython3",
   "version": "3.10.9"
  }
 },
 "nbformat": 4,
 "nbformat_minor": 5
}
