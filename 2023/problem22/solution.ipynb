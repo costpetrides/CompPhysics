{
 "cells": [
  {
   "cell_type": "code",
   "execution_count": 1,
   "id": "53b2c3e1",
   "metadata": {},
   "outputs": [
    {
     "name": "stdout",
     "output_type": "stream",
     "text": [
      "I = 8.378127360 +/- 0.001521248\n",
      "I = 8.378598258 +/- 0.001521278 [expected]\n"
     ]
    }
   ],
   "source": [
    "import matplotlib.pyplot as plt\n",
    "import numpy as np\n",
    "\n",
    "U = lambda :np.random.rand()\n",
    "\n",
    "np.random.seed(3)\n",
    "\n",
    "N = 10**8\n",
    "n = 0\n",
    "π = np.arccos(-1)\n",
    "for i in range(N):\n",
    "    x = 6*U() - 3\n",
    "    y = 6*U()\n",
    "      \n",
    "    if (x+2)**2 + (y-2)**2 <= 4 and x**2 + (y-3)**2 <= 9:\n",
    "        n += 1\n",
    "\n",
    "    \n",
    "p = float(n)/float(N)\n",
    "V = 6*6\n",
    "I  = p*V\n",
    "δI = V*(p-p*p)**0.5/N**0.5\n",
    "\n",
    "I_exp  = 8.378598258 # exact value\n",
    "p_exp  = I_exp/V     # expected p\n",
    "δI_exp = V*(p_exp - p_exp*p_exp)**0.5/N**0.5\n",
    "\n",
    "print('I = %2.9f +/- %2.9f'%(I, δI))\n",
    "print('I = %2.9f +/- %2.9f [expected]'%(I_exp, δI_exp))"
   ]
  },
  {
   "cell_type": "code",
   "execution_count": 2,
   "id": "adeb5882",
   "metadata": {
    "scrolled": true
   },
   "outputs": [
    {
     "name": "stdout",
     "output_type": "stream",
     "text": [
      "expected error for N = 10^4: 0.152127785\n",
      "expected error for N = 10^8: 0.001521278\n",
      "expected error for N = 10^18: 0.000000015\n"
     ]
    }
   ],
   "source": [
    "def expectedError(N):\n",
    "    I_exp  = 8.378598258 # exact value\n",
    "    p_exp  = I_exp/V     # expected p\n",
    "    δI_exp = V*(p_exp - p_exp*p_exp)**0.5/N**0.5\n",
    "    return δI_exp\n",
    "\n",
    "print('expected error for N = 10^4: %2.9f'%expectedError(10**4))\n",
    "print('expected error for N = 10^8: %2.9f'%expectedError(10**8))\n",
    "print('expected error for N = 10^18: %2.9f'%expectedError(10**18))"
   ]
  },
  {
   "cell_type": "code",
   "execution_count": 9,
   "id": "28a678df",
   "metadata": {},
   "outputs": [
    {
     "name": "stdout",
     "output_type": "stream",
     "text": [
      "I = 8.378390280 +/- 0.000550847\n",
      "I = 8.378598258 +/- 0.000550838 [expected]\n",
      "expected error for N = 10^4: 0.0550838182\n",
      "expected error for N = 10^8: 0.0005508382\n",
      "expected error for N = 10^18: 0.0000000055\n"
     ]
    }
   ],
   "source": [
    "# more efficient solution in smaller volume\n",
    "N = 10**8\n",
    "n = 0\n",
    "π = np.arccos(-1)\n",
    "for i in range(N):\n",
    "    x = 3*U() - 3\n",
    "    y = 4*U()\n",
    "      \n",
    "    if (x+2)**2 + (y-2)**2 <= 4 and x**2 + (y-3)**2 <= 9:\n",
    "        n += 1\n",
    "\n",
    "    \n",
    "p = float(n)/float(N)\n",
    "V = 3*4\n",
    "I  = p*V\n",
    "δI = V*(p-p*p)**0.5/N**0.5\n",
    "\n",
    "I_exp  = 8.378598258 # exact value\n",
    "p_exp  = I_exp/V     # expected p\n",
    "δI_exp = V*(p_exp - p_exp*p_exp)**0.5/N**0.5\n",
    "\n",
    "print('I = %2.9f +/- %2.9f'%(I, δI))\n",
    "print('I = %2.9f +/- %2.9f [expected]'%(I_exp, δI_exp))\n",
    "\n",
    "def expectedError(N):\n",
    "    I_exp  = 8.378598258 # exact value\n",
    "    p_exp  = I_exp/V     # expected p\n",
    "    δI_exp = V*(p_exp - p_exp*p_exp)**0.5/N**0.5\n",
    "    return δI_exp\n",
    "\n",
    "print('expected error for N = 10^4: %2.10f'%expectedError(10**4))\n",
    "print('expected error for N = 10^8: %2.10f'%expectedError(10**8))\n",
    "print('expected error for N = 10^18: %2.10f'%expectedError(10**18))"
   ]
  },
  {
   "cell_type": "code",
   "execution_count": null,
   "id": "285efce0",
   "metadata": {},
   "outputs": [],
   "source": []
  }
 ],
 "metadata": {
  "kernelspec": {
   "display_name": "Python 3 (ipykernel)",
   "language": "python",
   "name": "python3"
  },
  "language_info": {
   "codemirror_mode": {
    "name": "ipython",
    "version": 3
   },
   "file_extension": ".py",
   "mimetype": "text/x-python",
   "name": "python",
   "nbconvert_exporter": "python",
   "pygments_lexer": "ipython3",
   "version": "3.10.9"
  }
 },
 "nbformat": 4,
 "nbformat_minor": 5
}
