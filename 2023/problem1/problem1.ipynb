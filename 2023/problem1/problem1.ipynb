{
 "cells": [
  {
   "cell_type": "code",
   "execution_count": 1,
   "id": "e105b881",
   "metadata": {},
   "outputs": [],
   "source": [
    "import numpy as np\n",
    "import matplotlib.pyplot as plt"
   ]
  },
  {
   "cell_type": "code",
   "execution_count": 2,
   "id": "1f28e4f0",
   "metadata": {},
   "outputs": [],
   "source": [
    "link = \"https://raw.githubusercontent.com/theofil/CompPhysics/master/problems/2023_2024/problem1/dices.txt\"\n",
    "data = np.loadtxt(link, delimiter = ',')\n",
    "# data = array([1., 2., 3., 1., 2., 1., ... ]"
   ]
  },
  {
   "cell_type": "code",
   "execution_count": 3,
   "id": "7665096d",
   "metadata": {},
   "outputs": [
    {
     "name": "stdout",
     "output_type": "stream",
     "text": [
      "μ = 2.493  s2 = 0.619\n"
     ]
    }
   ],
   "source": [
    "# baseline solution\n",
    "\n",
    "Σx  = 0\n",
    "Σx2 = 0\n",
    "\n",
    "for x in data:\n",
    "    Σx  += x\n",
    "    Σx2 += x*x\n",
    "    \n",
    "N   = len(data) # lenght of the array\n",
    "N   = float(N)  # make N float to be sure for the division\n",
    "μ   = Σx/N\n",
    "σ2  = Σx2/N - μ**2\n",
    "s2  = σ2*(N/(N-1))\n",
    "\n",
    "print('μ = %2.3f  s2 = %2.3f'%(μ, s2))"
   ]
  },
  {
   "cell_type": "code",
   "execution_count": 4,
   "id": "9bf82e10",
   "metadata": {},
   "outputs": [
    {
     "name": "stdout",
     "output_type": "stream",
     "text": [
      "std and variance from numpy 0.6166222222222223 0.6166222222222222\n",
      "μ = 2.493  s2 = 0.619\n"
     ]
    }
   ],
   "source": [
    "# cleaner, faster and better solution \n",
    "\n",
    "data = np.array(data) # promote data to np array if it's not already of that type\n",
    "μ  = sum(data)/len(data)\n",
    "σ2 = sum(data**2)/len(data) -  μ**2\n",
    "s2  = σ2*(N/(N-1))\n",
    "\n",
    "# N   = float(len(data))\n",
    "# μ   = data.mean()\n",
    "# σ   = data.std()\n",
    "# σ2  = data.var()\n",
    "# s2  = σ2*(N/(N-1))\n",
    "\n",
    "print('std and variance from numpy', data.std()**2, data.var())\n",
    "print('μ = %2.3f  s2 = %2.3f'%(μ, s2))"
   ]
  },
  {
   "cell_type": "code",
   "execution_count": 7,
   "id": "52a7c0bb",
   "metadata": {},
   "outputs": [
    {
     "name": "stdout",
     "output_type": "stream",
     "text": [
      "in principle, we expect μ = 2.500 and σ2 = 1.250 but our data give μ = 2.493 and σ2 = 0.619\n"
     ]
    },
    {
     "data": {
      "image/png": "[encoded data removed]",
      "text/plain": [
       "<Figure size 640x480 with 1 Axes>"
      ]
     },
     "metadata": {},
     "output_type": "display_data"
    }
   ],
   "source": [
    "# Comments & Conclusions\n",
    "#\n",
    "# we always want to compare our data with (theory) expectations, \n",
    "# for example what is the μ, σ2 we expect (in principle) for a fair dice with 4 faces ?\n",
    "μ_theory  = 0.25*1 + 0.25*2 + 0.25*3 + 0.25*4\n",
    "σ2_theory = 0.25*1 + 0.25*4 + 0.25*9 + 0.25*16 - μ_theory**2\n",
    "print(\"in principle, we expect μ = %2.3f and σ2 = %2.3f but our data give μ = %2.3f and σ2 = %2.3f\"%(μ_theory, σ2_theory, μ, s2))\n",
    "\n",
    "# how many 1's, 2's, 3's, 4's we expect for 300 dice rools ? (answer: ~75 for each face)\n",
    "_ = plt.hist(data, bins = range(8), ec='black') # don't forget we count from 0"
   ]
  },
  {
   "cell_type": "code",
   "execution_count": null,
   "id": "781a2669",
   "metadata": {},
   "outputs": [],
   "source": []
  }
 ],
 "metadata": {
  "kernelspec": {
   "display_name": "Python 3 (ipykernel)",
   "language": "python",
   "name": "python3"
  },
  "language_info": {
   "codemirror_mode": {
    "name": "ipython",
    "version": 3
   },
   "file_extension": ".py",
   "mimetype": "text/x-python",
   "name": "python",
   "nbconvert_exporter": "python",
   "pygments_lexer": "ipython3",
   "version": "3.10.9"
  }
 },
 "nbformat": 4,
 "nbformat_minor": 5
}
