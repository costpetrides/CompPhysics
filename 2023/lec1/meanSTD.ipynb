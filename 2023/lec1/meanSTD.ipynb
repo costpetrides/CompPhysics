{
 "cells": [
  {
   "cell_type": "code",
   "execution_count": 18,
   "id": "5b0f4514",
   "metadata": {},
   "outputs": [],
   "source": [
    "xs = [3,2,4,1,2,3,4,3,4,4]"
   ]
  },
  {
   "cell_type": "code",
   "execution_count": 23,
   "id": "02e59f9c",
   "metadata": {},
   "outputs": [
    {
     "name": "stdout",
     "output_type": "stream",
     "text": [
      "3 3\n",
      "5 2\n",
      "9 4\n",
      "10 1\n",
      "12 2\n",
      "15 3\n",
      "19 4\n",
      "22 3\n",
      "26 4\n",
      "30 4\n",
      "σ2 =  1.0\n"
     ]
    }
   ],
   "source": [
    "#for(int i = 0; i<10; i++){ xs[i]; }\n",
    "Σx = 0\n",
    "for i in range(len(xs)):\n",
    "    Σx = Σx + xs[i]\n",
    "    print(Σx, xs[i])\n",
    "\n",
    "N = len(xs) # N = len(xs)    \n",
    "μ = Σx/N \n",
    "\n",
    "sumOfsquares = 0\n",
    "for i in range(len(xs)):\n",
    "    sumOfsquares = sumOfsquares + (xs[i] - μ)**2\n",
    "    \n",
    "σ2 = sumOfsquares/N\n",
    "print('σ2 = ', σ2)"
   ]
  },
  {
   "cell_type": "code",
   "execution_count": 2,
   "id": "e6c89725",
   "metadata": {},
   "outputs": [
    {
     "name": "stdout",
     "output_type": "stream",
     "text": [
      "μ =  3.0  σ2 =  1.0\n"
     ]
    }
   ],
   "source": [
    "xs = [3,2,4,1,2,3,4,3,4,4]\n",
    "\n",
    "Σx  = 0\n",
    "Σx2 = 0\n",
    "for x in xs:\n",
    "    Σx = Σx + x\n",
    "    Σx2 = Σx2 + x**2\n",
    "    \n",
    "N = len(xs)\n",
    "\n",
    "μ = Σx / N\n",
    "σ2 = Σx2/N -  μ**2\n",
    "\n",
    "print('μ = ',μ , ' σ2 = ', σ2)"
   ]
  },
  {
   "cell_type": "code",
   "execution_count": 10,
   "id": "d8b6ef6b",
   "metadata": {},
   "outputs": [
    {
     "data": {
      "text/plain": [
       "(array([0., 1., 2., 3., 4., 0., 0., 0., 0.]),\n",
       " array([0., 1., 2., 3., 4., 5., 6., 7., 8., 9.]),\n",
       " <BarContainer object of 9 artists>)"
      ]
     },
     "execution_count": 10,
     "metadata": {},
     "output_type": "execute_result"
    },
    {
     "data": {
      "image/png": "[encoded data removed]",
      "text/plain": [
       "<Figure size 640x480 with 1 Axes>"
      ]
     },
     "metadata": {},
     "output_type": "display_data"
    }
   ],
   "source": [
    "import matplotlib.pyplot as plt\n",
    "#plt.hist(xs, bins = range(0,10), ec = 'black')\n",
    "plt.hist(xs, bins = range(0,10), ec = 'black')"
   ]
  },
  {
   "cell_type": "code",
   "execution_count": 27,
   "id": "920a51d6",
   "metadata": {},
   "outputs": [
    {
     "name": "stdout",
     "output_type": "stream",
     "text": [
      "μ =  3.0 σ2 =  1.0\n"
     ]
    }
   ],
   "source": [
    "# the code below is an one-line implementation of the program we wrote in class \n",
    "σ2 = sum([(xi-sum(xs)/len(xs))**2 for xi in xs])/len(xs)\n",
    "print('μ = ',sum(xs)/len(xs), 'σ2 = ', σ2)"
   ]
  },
  {
   "cell_type": "code",
   "execution_count": null,
   "id": "f7bf158c",
   "metadata": {},
   "outputs": [],
   "source": []
  }
 ],
 "metadata": {
  "kernelspec": {
   "display_name": "Python 3 (ipykernel)",
   "language": "python",
   "name": "python3"
  },
  "language_info": {
   "codemirror_mode": {
    "name": "ipython",
    "version": 3
   },
   "file_extension": ".py",
   "mimetype": "text/x-python",
   "name": "python",
   "nbconvert_exporter": "python",
   "pygments_lexer": "ipython3",
   "version": "3.10.9"
  }
 },
 "nbformat": 4,
 "nbformat_minor": 5
}
