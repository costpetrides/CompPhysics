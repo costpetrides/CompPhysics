{
 "cells": [
  {
   "cell_type": "code",
   "execution_count": 5,
   "id": "27fb0b66",
   "metadata": {},
   "outputs": [],
   "source": [
    "data = [21, 34, 35, 56, 45, 31, 98]\n",
    "N = len(data)"
   ]
  },
  {
   "cell_type": "code",
   "execution_count": 6,
   "id": "26f5f647",
   "metadata": {},
   "outputs": [
    {
     "name": "stdout",
     "output_type": "stream",
     "text": [
      "21\n",
      "34\n",
      "35\n",
      "56\n",
      "45\n",
      "31\n",
      "98\n"
     ]
    }
   ],
   "source": [
    "for i in range(N):\n",
    "    print(data[i])"
   ]
  },
  {
   "cell_type": "code",
   "execution_count": 4,
   "id": "383d9528",
   "metadata": {},
   "outputs": [
    {
     "name": "stdout",
     "output_type": "stream",
     "text": [
      "21\n",
      "34\n",
      "35\n",
      "56\n"
     ]
    }
   ],
   "source": [
    "for x in data:\n",
    "    print(x)"
   ]
  },
  {
   "cell_type": "code",
   "execution_count": null,
   "id": "ab69039d",
   "metadata": {},
   "outputs": [],
   "source": []
  }
 ],
 "metadata": {
  "kernelspec": {
   "display_name": "Python 3 (ipykernel)",
   "language": "python",
   "name": "python3"
  },
  "language_info": {
   "codemirror_mode": {
    "name": "ipython",
    "version": 3
   },
   "file_extension": ".py",
   "mimetype": "text/x-python",
   "name": "python",
   "nbconvert_exporter": "python",
   "pygments_lexer": "ipython3",
   "version": "3.10.9"
  }
 },
 "nbformat": 4,
 "nbformat_minor": 5
}
