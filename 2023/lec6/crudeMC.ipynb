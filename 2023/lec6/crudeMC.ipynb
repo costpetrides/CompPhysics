{
 "cells": [
  {
   "cell_type": "code",
   "execution_count": 1,
   "id": "e040e8c5",
   "metadata": {},
   "outputs": [],
   "source": [
    "import numpy as np\n",
    "import matplotlib.pyplot as plt"
   ]
  },
  {
   "cell_type": "code",
   "execution_count": 2,
   "id": "d8540650",
   "metadata": {},
   "outputs": [],
   "source": [
    "def U(): return np.random.rand()"
   ]
  },
  {
   "cell_type": "code",
   "execution_count": 6,
   "id": "44942c19",
   "metadata": {},
   "outputs": [],
   "source": [
    "def f(x, y, z): return 5*(x*x + y*y)/(648*np.pi) "
   ]
  },
  {
   "cell_type": "code",
   "execution_count": 27,
   "id": "de16c042",
   "metadata": {},
   "outputs": [
    {
     "name": "stdout",
     "output_type": "stream",
     "text": [
      "1.00500 +/- 0.00920\n"
     ]
    }
   ],
   "source": [
    "R = 3\n",
    "a, b = -R, R\n",
    "V0 = (b-a)**3 # cube's volume\n",
    "V1 = (4/3.)*np.pi*R**3 # sphere's volume\n",
    "N  = 10000\n",
    "n  = 0 # number of x,y,z's within the sphere ~ (V1/V0)*N\n",
    "\n",
    "Σf  = 0\n",
    "Σf2 = 0\n",
    "\n",
    "for i in range(N):\n",
    "    x = U()*(b-a) + a\n",
    "    y = U()*(b-a) + a\n",
    "    z = U()*(b-a) + a\n",
    "    \n",
    "    if x**2 + y**2 + z**2 <= R**2:\n",
    "        Σf  += f(x, y, z)\n",
    "        Σf2 += f(x, y, z)*f(x, y, z)\n",
    "        n   += 1\n",
    "        \n",
    "\n",
    "μ  = Σf/n\n",
    "σ2 = Σf2/n - μ**2\n",
    "s2 = (n/(n-1))*σ2\n",
    "s  = s2**0.5\n",
    "\n",
    "I  = μ*V1\n",
    "δI = V1*s/n**0.5\n",
    "print('%2.5f +/- %2.5f'%(I, δI))             "
   ]
  },
  {
   "cell_type": "code",
   "execution_count": null,
   "id": "0d433375",
   "metadata": {},
   "outputs": [],
   "source": []
  },
  {
   "cell_type": "code",
   "execution_count": null,
   "id": "c8a8433a",
   "metadata": {},
   "outputs": [],
   "source": []
  }
 ],
 "metadata": {
  "kernelspec": {
   "display_name": "Python 3 (ipykernel)",
   "language": "python",
   "name": "python3"
  },
  "language_info": {
   "codemirror_mode": {
    "name": "ipython",
    "version": 3
   },
   "file_extension": ".py",
   "mimetype": "text/x-python",
   "name": "python",
   "nbconvert_exporter": "python",
   "pygments_lexer": "ipython3",
   "version": "3.10.9"
  }
 },
 "nbformat": 4,
 "nbformat_minor": 5
}
