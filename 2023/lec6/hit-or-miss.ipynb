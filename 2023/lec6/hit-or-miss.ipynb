{
 "cells": [
  {
   "cell_type": "code",
   "execution_count": 2,
   "id": "e040e8c5",
   "metadata": {},
   "outputs": [],
   "source": [
    "import numpy as np\n",
    "import matplotlib.pyplot as plt"
   ]
  },
  {
   "cell_type": "code",
   "execution_count": 3,
   "id": "6676d652",
   "metadata": {},
   "outputs": [],
   "source": [
    "def U(): return np.random.rand()"
   ]
  },
  {
   "cell_type": "code",
   "execution_count": 4,
   "id": "708350f3",
   "metadata": {},
   "outputs": [],
   "source": [
    "def f(x, y, z): return 5*(x*x + y*y)/(648*np.pi) "
   ]
  },
  {
   "cell_type": "code",
   "execution_count": 11,
   "id": "ce3db6e4",
   "metadata": {},
   "outputs": [
    {
     "name": "stdout",
     "output_type": "stream",
     "text": [
      "1.01223 +/- 0.02940\n"
     ]
    }
   ],
   "source": [
    "R    = 3\n",
    "a, b = -R, R\n",
    "V0   = (b-a)**3 # cube's volume\n",
    "N    = 10000\n",
    "n    = 0 # number of x,y,z's within the sphere ~ (V1/V0)*N\n",
    "fmax = f(R, R, R)\n",
    "\n",
    "for i in range(N):\n",
    "    x = U()*(b-a) + a\n",
    "    y = U()*(b-a) + a\n",
    "    z = U()*(b-a) + a\n",
    "    w = fmax*U()\n",
    "    \n",
    "    if x**2 + y**2 + z**2 <= R**2 and w<f(x,y,z):\n",
    "        n   += 1\n",
    "        \n",
    "p  = n/N \n",
    "I  = fmax*V0*p\n",
    "δI = fmax*V0*(p - p**2)**0.5/N**0.5\n",
    "print('%2.5f +/- %2.5f'%(I, δI))             "
   ]
  },
  {
   "cell_type": "code",
   "execution_count": 9,
   "id": "7ecbcdb5",
   "metadata": {},
   "outputs": [],
   "source": [
    "#plt.plot(xs,ys,zs)"
   ]
  },
  {
   "cell_type": "code",
   "execution_count": null,
   "id": "51ff4778",
   "metadata": {},
   "outputs": [],
   "source": []
  }
 ],
 "metadata": {
  "kernelspec": {
   "display_name": "Python 3 (ipykernel)",
   "language": "python",
   "name": "python3"
  },
  "language_info": {
   "codemirror_mode": {
    "name": "ipython",
    "version": 3
   },
   "file_extension": ".py",
   "mimetype": "text/x-python",
   "name": "python",
   "nbconvert_exporter": "python",
   "pygments_lexer": "ipython3",
   "version": "3.10.9"
  }
 },
 "nbformat": 4,
 "nbformat_minor": 5
}
