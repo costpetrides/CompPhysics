{
 "cells": [
  {
   "cell_type": "code",
   "execution_count": 1,
   "id": "6584ab2f",
   "metadata": {},
   "outputs": [],
   "source": [
    "import numpy as np\n",
    "import matplotlib.pyplot as plt"
   ]
  },
  {
   "cell_type": "code",
   "execution_count": 2,
   "id": "aa73fa45",
   "metadata": {},
   "outputs": [],
   "source": [
    "def f(x): return np.exp(x)\n",
    "a, b = 0, 10\n",
    "def U(): return np.random.rand()"
   ]
  },
  {
   "cell_type": "code",
   "execution_count": 21,
   "id": "177d7313",
   "metadata": {},
   "outputs": [
    {
     "name": "stdout",
     "output_type": "stream",
     "text": [
      "Ι = 22041.9 + 439.7\n"
     ]
    }
   ],
   "source": [
    "N   = 10**4\n",
    "Σf  = 0\n",
    "Σf2 = 0\n",
    "\n",
    "for i in range(N):\n",
    "    x    = (b-a)*U()\n",
    "    z    = f(x) \n",
    "    Σf  += z\n",
    "    Σf2 += z*z\n",
    "    \n",
    "μ  = Σf / N\n",
    "σ2 = Σf2 / N - μ*μ\n",
    "\n",
    "s2 = (σ2*(N))/(N-1) # Bessel's correction\n",
    "s  = s2**0.5\n",
    "\n",
    "V  = b - a\n",
    "I  = V*μ\n",
    "δI = V*s/N**0.5\n",
    "\n",
    "\n",
    "\n",
    "print('Ι = %2.1f + %2.1f'%(I, δI))"
   ]
  },
  {
   "cell_type": "code",
   "execution_count": 26,
   "id": "6d545d30",
   "metadata": {},
   "outputs": [],
   "source": [
    "# brute force, not to be used !\n",
    "def integral():\n",
    "    N   = 10**4\n",
    "    Σf  = 0\n",
    "\n",
    "    for i in range(N):\n",
    "        x    = (b-a)*U()\n",
    "        Σf  += f(x)\n",
    "\n",
    "    μ  = Σf / N\n",
    "\n",
    "    V  = b - a\n",
    "    I  = V*μ\n",
    "    return I"
   ]
  },
  {
   "cell_type": "code",
   "execution_count": 38,
   "id": "3f057653",
   "metadata": {},
   "outputs": [],
   "source": [
    "integrals = [integral() for _ in range(5000)]"
   ]
  },
  {
   "cell_type": "code",
   "execution_count": 39,
   "id": "2a4127b1",
   "metadata": {},
   "outputs": [],
   "source": [
    "integrals = np.array(integrals) # promote python list to numpy array "
   ]
  },
  {
   "cell_type": "code",
   "execution_count": 43,
   "id": "cc8b1d03",
   "metadata": {},
   "outputs": [
    {
     "name": "stdout",
     "output_type": "stream",
     "text": [
      "Ι = 22030.8 +/- 437.5\n"
     ]
    },
    {
     "data": {
      "image/png": "[encoded data removed]",
      "text/plain": [
       "<Figure size 640x480 with 1 Axes>"
      ]
     },
     "metadata": {},
     "output_type": "display_data"
    }
   ],
   "source": [
    "_ = plt.hist(integrals, bins = 50, ec='black')\n",
    "I  = integrals.mean()\n",
    "δI = integrals.std()*(N/(N-1))**0.5 # don't use this!\n",
    "print('Ι = %2.1f +/- %2.1f'%(I, δI))"
   ]
  },
  {
   "cell_type": "code",
   "execution_count": null,
   "id": "906132f2",
   "metadata": {},
   "outputs": [],
   "source": []
  }
 ],
 "metadata": {
  "kernelspec": {
   "display_name": "Python 3 (ipykernel)",
   "language": "python",
   "name": "python3"
  },
  "language_info": {
   "codemirror_mode": {
    "name": "ipython",
    "version": 3
   },
   "file_extension": ".py",
   "mimetype": "text/x-python",
   "name": "python",
   "nbconvert_exporter": "python",
   "pygments_lexer": "ipython3",
   "version": "3.10.9"
  }
 },
 "nbformat": 4,
 "nbformat_minor": 5
}
