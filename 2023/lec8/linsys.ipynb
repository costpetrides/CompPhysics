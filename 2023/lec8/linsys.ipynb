{
 "cells": [
  {
   "cell_type": "code",
   "execution_count": 27,
   "id": "e80d4942",
   "metadata": {},
   "outputs": [],
   "source": [
    "import numpy as np"
   ]
  },
  {
   "cell_type": "code",
   "execution_count": 28,
   "id": "821495f1",
   "metadata": {},
   "outputs": [
    {
     "data": {
      "text/plain": [
       "array([[0],\n",
       "       [0],\n",
       "       [0]])"
      ]
     },
     "execution_count": 28,
     "metadata": {},
     "output_type": "execute_result"
    }
   ],
   "source": [
    "A = [ [1 ,  2, 1], \n",
    "      [2 ,  2, 3],\n",
    "      [-1, -3, 0]\n",
    "    ]\n",
    "\n",
    "A = np.array(A)\n",
    "b = [ [0],\n",
    "      [3],\n",
    "      [2]\n",
    "]\n",
    "\n",
    "b = np.array(b)\n",
    "\n",
    "x = [\n",
    "    [1],\n",
    "    [-1],\n",
    "    [1]\n",
    "]\n",
    "\n",
    "x = np.array(x)\n",
    "\n",
    "A@x -b"
   ]
  },
  {
   "cell_type": "code",
   "execution_count": 29,
   "id": "0356a35c",
   "metadata": {},
   "outputs": [
    {
     "data": {
      "text/plain": [
       "array([[ 1,  2,  1],\n",
       "       [ 2,  2,  3],\n",
       "       [-1, -3,  0]])"
      ]
     },
     "execution_count": 29,
     "metadata": {},
     "output_type": "execute_result"
    }
   ],
   "source": [
    "A"
   ]
  },
  {
   "cell_type": "code",
   "execution_count": 30,
   "id": "602cd8fa",
   "metadata": {},
   "outputs": [],
   "source": [
    "A[2] = A[2] + (0.5)*A[1] # multiyply 2nd line with 0.5 \n",
    "                         # and add it to the 3rd"
   ]
  },
  {
   "cell_type": "code",
   "execution_count": 31,
   "id": "496d0c35",
   "metadata": {},
   "outputs": [
    {
     "data": {
      "text/plain": [
       "array([[ 1,  2,  1],\n",
       "       [ 2,  2,  3],\n",
       "       [ 0, -2,  1]])"
      ]
     },
     "execution_count": 31,
     "metadata": {},
     "output_type": "execute_result"
    }
   ],
   "source": [
    "A"
   ]
  },
  {
   "cell_type": "code",
   "execution_count": null,
   "id": "8a1df761",
   "metadata": {},
   "outputs": [],
   "source": []
  }
 ],
 "metadata": {
  "kernelspec": {
   "display_name": "Python 3 (ipykernel)",
   "language": "python",
   "name": "python3"
  },
  "language_info": {
   "codemirror_mode": {
    "name": "ipython",
    "version": 3
   },
   "file_extension": ".py",
   "mimetype": "text/x-python",
   "name": "python",
   "nbconvert_exporter": "python",
   "pygments_lexer": "ipython3",
   "version": "3.10.9"
  }
 },
 "nbformat": 4,
 "nbformat_minor": 5
}
