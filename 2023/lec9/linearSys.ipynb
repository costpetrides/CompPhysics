{
 "cells": [
  {
   "cell_type": "code",
   "execution_count": 1,
   "id": "0d0eeb56",
   "metadata": {},
   "outputs": [],
   "source": [
    "import numpy as np\n",
    "import matplotlib.pyplot as plt\n",
    "\n",
    "### Solving AX = b with Gauss Seidel and Jacobi iterative methods\n",
    "#\n",
    "#      3. -1.  0\n",
    "# A = -1.  3. -1\n",
    "#      0. -2.  4.    \n",
    "# \n",
    "#      10\n",
    "# b =   5\n",
    "#      10"
   ]
  },
  {
   "cell_type": "code",
   "execution_count": 15,
   "id": "8f934d9e",
   "metadata": {},
   "outputs": [],
   "source": [
    "x1, x2, x3 = -3, 2, 4\n",
    "\n",
    "# Gauss Seidel\n",
    "for i in range(7):\n",
    "    \n",
    "    x1 = (1/3.)*(10 + x2)\n",
    "    x2 = (1/3.)*(5 + x1 + x3)\n",
    "    x3 = (1/4.)*(10 + 2*x2)\n",
    "    \n",
    "\n",
    "X = np.array([[x1],[x2],[x3]])\n",
    "A = np.array([\n",
    "      [3., -1.,  0],\n",
    "     [-1.,  3., -1],\n",
    "     [0., -2.,  4.]\n",
    "    ])\n",
    "\n",
    "b = np.array([\n",
    "    [10],  \n",
    "    [5],\n",
    "    [10]\n",
    "])"
   ]
  },
  {
   "cell_type": "code",
   "execution_count": 16,
   "id": "1afc4b0e",
   "metadata": {},
   "outputs": [
    {
     "data": {
      "text/plain": [
       "array([[-7.96282341e-04],\n",
       "       [-3.98141170e-04],\n",
       "       [-1.77635684e-15]])"
      ]
     },
     "execution_count": 16,
     "metadata": {},
     "output_type": "execute_result"
    }
   ],
   "source": [
    "A@X - b"
   ]
  },
  {
   "cell_type": "code",
   "execution_count": 18,
   "id": "b4b597cd",
   "metadata": {},
   "outputs": [
    {
     "data": {
      "text/plain": [
       "array([[ 0.        ],\n",
       "       [-0.13931756],\n",
       "       [ 0.        ]])"
      ]
     },
     "execution_count": 18,
     "metadata": {},
     "output_type": "execute_result"
    }
   ],
   "source": [
    "x1, x2, x3 = -3, 2, 4\n",
    "\n",
    "# Jacobi\n",
    "for i in range(7):\n",
    "    j1 , j2 ,j3 = x1, x2, x3\n",
    "    x1 = (1/3.)*(10 + j2)\n",
    "    x2 = (1/3.)*(5 + j1 + j3)\n",
    "    x3 = (1/4.)*(10 + 2*j2)\n",
    "    \n",
    "\n",
    "X = np.array([[x1],[x2],[x3]])\n",
    "A = np.array([\n",
    "      [3., -1.,  0],\n",
    "     [-1.,  3., -1],\n",
    "     [0., -2.,  4.]\n",
    "    ])\n",
    "\n",
    "b = np.array([\n",
    "    [10],  \n",
    "    [5],\n",
    "    [10]\n",
    "])\n",
    "\n",
    "A@X - b"
   ]
  },
  {
   "cell_type": "code",
   "execution_count": null,
   "id": "f658ef00",
   "metadata": {},
   "outputs": [],
   "source": []
  },
  {
   "cell_type": "code",
   "execution_count": null,
   "id": "dac4a9e8",
   "metadata": {},
   "outputs": [],
   "source": []
  }
 ],
 "metadata": {
  "kernelspec": {
   "display_name": "Python 3 (ipykernel)",
   "language": "python",
   "name": "python3"
  },
  "language_info": {
   "codemirror_mode": {
    "name": "ipython",
    "version": 3
   },
   "file_extension": ".py",
   "mimetype": "text/x-python",
   "name": "python",
   "nbconvert_exporter": "python",
   "pygments_lexer": "ipython3",
   "version": "3.10.9"
  }
 },
 "nbformat": 4,
 "nbformat_minor": 5
}
