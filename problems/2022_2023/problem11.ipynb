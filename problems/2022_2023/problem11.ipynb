{
 "cells": [
  {
   "cell_type": "code",
   "execution_count": 1,
   "metadata": {},
   "outputs": [],
   "source": [
    "import numpy as np\n",
    "import matplotlib.pyplot as plt\n",
    "\n",
    "def f(x): return np.exp(x)"
   ]
  },
  {
   "cell_type": "code",
   "execution_count": 2,
   "metadata": {},
   "outputs": [
    {
     "name": "stdout",
     "output_type": "stream",
     "text": [
      "I = 22017.79 ± 1402.22 [dI/I = 0.064] with crude MC\n"
     ]
    }
   ],
   "source": [
    "# α)\n",
    "\n",
    "a, b = 0, 10\n",
    "n  = 1000\n",
    "V  = (b-a)*f(b)\n",
    "\n",
    "def crude(n = 1000, a = 0, b = 10):\n",
    "    '''crude MC integration'''\n",
    "    sumf  = 0\n",
    "    sumf2 = 0\n",
    "    for i in range(n):\n",
    "        x = np.random.uniform(a, b)\n",
    "        y = f(x)\n",
    "        sumf  += y\n",
    "        sumf2 += y*y\n",
    "    meanf   = sumf/n\n",
    "    meanf2  = sumf2/n\n",
    "    sigmaf2 = (meanf2 - meanf**2)*(n/(n-1))\n",
    "    sigmaf  = sigmaf2**0.5\n",
    "    I       = meanf*(b-a)\n",
    "    dI      = (b-a)*sigmaf*n**(-0.5)\n",
    "    return I, dI, dI/I\n",
    "\n",
    "print('I = %2.2f ± %2.2f [dI/I = %2.3f] with crude MC'%(crude(n)))"
   ]
  },
  {
   "cell_type": "code",
   "execution_count": 3,
   "metadata": {},
   "outputs": [
    {
     "name": "stdout",
     "output_type": "stream",
     "text": [
      "I = 22025.47 ± 1393.09  [0.063] expected values for crude MC\n"
     ]
    }
   ],
   "source": [
    "# β) \n",
    "\n",
    "def dIexactCRD(a, b, n):\n",
    "    '''returns the expected uncertainty for the crude integration of f(x) = exp(x) in [a, b]'''\n",
    "    dIexactcrd = (b-a)*(0.5*(1/(b-a))*(f(2*b) - f(2*a)) - ((1/(b-a))*(f(b) - f(a)))**2)**0.5/n**0.5\n",
    "    return dIexactcrd\n",
    "\n",
    "Iexact   = f(b) - f(a)\n",
    "dIexactcrd = dIexactCRD(a, b, n)\n",
    "\n",
    "print('I = %2.2f ± %2.2f  [%2.3f] expected values for crude MC'%(Iexact, dIexactcrd, dIexactcrd/Iexact))"
   ]
  },
  {
   "cell_type": "code",
   "execution_count": 4,
   "metadata": {},
   "outputs": [
    {
     "name": "stdout",
     "output_type": "stream",
     "text": [
      "n = 1000\n",
      "Iarray std = 1387.4\n",
      "Iarray mean = 22015.1\n"
     ]
    }
   ],
   "source": [
    "# γ) time consuming\n",
    "\n",
    "Iarraycrd = [crude(n)[0] for i in range(40000)]\n",
    "print('n = %d'%(n))\n",
    "print('Iarray std = %2.1f'%np.array(Iarraycrd).std())\n",
    "print('Iarray mean = %2.1f'%np.array(Iarraycrd).mean())"
   ]
  },
  {
   "cell_type": "code",
   "execution_count": 5,
   "metadata": {},
   "outputs": [
    {
     "data": {
      "image/png": "[encoded data removed]",
      "text/plain": [
       "<Figure size 432x288 with 1 Axes>"
      ]
     },
     "metadata": {
      "needs_background": "light"
     },
     "output_type": "display_data"
    }
   ],
   "source": [
    "_ = plt.hist(Iarraycrd, bins = 100, ec = 'black')"
   ]
  },
  {
   "cell_type": "code",
   "execution_count": 6,
   "metadata": {},
   "outputs": [
    {
     "name": "stdout",
     "output_type": "stream",
     "text": [
      "dI1 = 8.2  dI2 = 1211.8  (dI1**2 + dI2**2)**0.5 = 1211.8 exepected with crude MC\n",
      "crude MC integration in one go     :24927.9 ± 1519.5 [0.061]\n",
      "crude MC integration in two halves :24507.0 ± 1269.2\n"
     ]
    }
   ],
   "source": [
    "# δ)\n",
    "\n",
    "dI  = dIexactCRD(0, 10, 1000)\n",
    "dI1 = dIexactCRD(0, 5, 500)\n",
    "dI2 = dIexactCRD(5, 10, 500)\n",
    "\n",
    "print('dI1 = %2.1f  dI2 = %2.1f  (dI1**2 + dI2**2)**0.5 = %2.1f exepected with crude MC'%(dI1, dI2, (dI1**2 + dI2**2)**0.5))\n",
    "\n",
    "print('crude MC integration in one go     :%2.1f ± %2.1f [%2.3f]'%(crude(1000,0,10)))\n",
    "I1, dI1, fdI1 = crude(500, 0, 5)\n",
    "I2, dI2, fdI2 = crude(500, 5, 10)\n",
    "print('crude MC integration in two halves :%2.1f ± %2.1f'%(I1+I2, (dI1**2 + dI2**2)**0.5))"
   ]
  },
  {
   "cell_type": "code",
   "execution_count": 7,
   "metadata": {},
   "outputs": [
    {
     "name": "stdout",
     "output_type": "stream",
     "text": [
      "I = 21365.67 ± 2061.46 [dI/I = 0.096] with h-o-m MC\n"
     ]
    }
   ],
   "source": [
    "# ε)\n",
    "\n",
    "\n",
    "def hom(n = 10000, a = 0, b =10):\n",
    "    '''h-o-m integration of f(x) = exp(x) in [a, b]'''\n",
    "    m = 0\n",
    "    for i in range(n):\n",
    "        x = np.random.uniform(a, b)\n",
    "        y = np.random.uniform(0, f(b))\n",
    "        if y <= f(x): m += 1\n",
    "            \n",
    "    p   = m/float(n)\n",
    "    V   = f(b)*(b - a)\n",
    "    I   = p*V\n",
    "    δI  = (V*(p - p**2)**0.5)/n**0.5\n",
    "    return I, δI, δI/I \n",
    "\n",
    "print('I = %2.2f ± %2.2f [dI/I = %2.3f] with h-o-m MC'%(hom(n)))"
   ]
  },
  {
   "cell_type": "code",
   "execution_count": 8,
   "metadata": {},
   "outputs": [
    {
     "name": "stdout",
     "output_type": "stream",
     "text": [
      "I = 22025.47 ± 2089.57  [0.095] expected values for h-o-m MC\n"
     ]
    }
   ],
   "source": [
    "# expected uncertainty for h-o-m\n",
    "def homtheory(n, a, b):\n",
    "    '''returns the expected uncertainty for the h-o-m integration of f(x) = exp(x) in [a, b]'''\n",
    "    V = f(b)*(b-a)\n",
    "    p = (f(b) - f(a))/V\n",
    "    dI = V*(p-p*p)**0.5/n**0.5\n",
    "    I  = p*V\n",
    "    return I, dI, dI/I\n",
    "\n",
    "print('I = %2.2f ± %2.2f  [%2.3f] expected values for h-o-m MC'%(homtheory(1000, a, b)))"
   ]
  },
  {
   "cell_type": "code",
   "execution_count": 9,
   "metadata": {},
   "outputs": [],
   "source": [
    "# repeat 40000 times the hom integration with n = 1000 (time consuming)\n",
    "Iarrayhom = [hom(1000)[0] for i in range(40000)]"
   ]
  },
  {
   "cell_type": "code",
   "execution_count": 10,
   "metadata": {},
   "outputs": [
    {
     "data": {
      "image/png": "[encoded data removed]",
      "text/plain": [
       "<Figure size 432x288 with 1 Axes>"
      ]
     },
     "metadata": {
      "needs_background": "light"
     },
     "output_type": "display_data"
    }
   ],
   "source": [
    "_ = plt.hist(Iarrayhom, bins = 100, ec = 'black')"
   ]
  },
  {
   "cell_type": "code",
   "execution_count": 11,
   "metadata": {},
   "outputs": [
    {
     "name": "stdout",
     "output_type": "stream",
     "text": [
      "I = 140.99 ± 13.02  [0.092] for h-o-m MC in [0, 5]\n",
      "I = 147.41 ± 13.24  [0.090] expected values for h-o-m MC in [0, 5]\n",
      "I = 22687.26 ± 1991.93  [0.088] for h-o-m MC in [5, 10]\n",
      "I = 21878.05 ± 1965.11  [0.090] expected values for h-o-m MC in [5, 10]\n"
     ]
    }
   ],
   "source": [
    "# integration in two havles with N = 500\n",
    "print('I = %2.2f ± %2.2f  [%2.3f] for h-o-m MC in [0, 5]'%( hom(500, 0, 5)))\n",
    "print('I = %2.2f ± %2.2f  [%2.3f] expected values for h-o-m MC in [0, 5]'%(homtheory(500, 0, 5)))\n",
    "\n",
    "# expected results when doing the integration in two halves with N = 500\n",
    "print('I = %2.2f ± %2.2f  [%2.3f] for h-o-m MC in [5, 10]'%(hom(500, 5, 10)))\n",
    "print('I = %2.2f ± %2.2f  [%2.3f] expected values for h-o-m MC in [5, 10]'%(homtheory(500, 5,10)))"
   ]
  }
 ],
 "metadata": {
  "kernelspec": {
   "display_name": "Python 3",
   "language": "python",
   "name": "python3"
  },
  "language_info": {
   "codemirror_mode": {
    "name": "ipython",
    "version": 3
   },
   "file_extension": ".py",
   "mimetype": "text/x-python",
   "name": "python",
   "nbconvert_exporter": "python",
   "pygments_lexer": "ipython3",
   "version": "3.9.12"
  }
 },
 "nbformat": 4,
 "nbformat_minor": 4
}
