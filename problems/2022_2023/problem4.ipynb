{
 "cells": [
  {
   "cell_type": "code",
   "execution_count": 1,
   "metadata": {},
   "outputs": [],
   "source": [
    "import numpy as np\n",
    "import matplotlib.pyplot as plt\n",
    "def U(): return np.random.rand()\n",
    "def f(x): return 1/x\n",
    "a, b = 0.5, 10.5"
   ]
  },
  {
   "cell_type": "code",
   "execution_count": 2,
   "metadata": {},
   "outputs": [
    {
     "name": "stdout",
     "output_type": "stream",
     "text": [
      "For N = 100000 len(xs) = 100000 performance = 1.000\n"
     ]
    },
    {
     "data": {
      "image/png": "[encoded data removed]",
      "text/plain": [
       "<Figure size 432x288 with 1 Axes>"
      ]
     },
     "metadata": {
      "needs_background": "light"
     },
     "output_type": "display_data"
    }
   ],
   "source": [
    "# sampling with the method of inverse transform  \n",
    "c = 1/np.log(21)\n",
    "def Finv(x): return 0.5*np.exp(x/c)\n",
    "\n",
    "N      = 100000\n",
    "xs     = [Finv(U()) for dummy in range(N)]\n",
    "mybins = np.linspace(0.5, 10.5, 50)\n",
    "plt.hist(xs, mybins, ec = 'black')\n",
    "print('For N = %d len(xs) = %d performance = %2.3f'%(N, len(xs), float(len(xs))/N))"
   ]
  },
  {
   "cell_type": "code",
   "execution_count": 3,
   "metadata": {},
   "outputs": [
    {
     "name": "stdout",
     "output_type": "stream",
     "text": [
      "For N = 100000 len(xs) = 15327 performance = 0.153\n"
     ]
    },
    {
     "data": {
      "text/plain": [
       "(array([1719., 1263., 1039.,  878.,  728.,  623.,  575.,  509.,  475.,\n",
       "         414.,  365.,  364.,  327.,  296.,  286.,  277.,  272.,  225.,\n",
       "         254.,  211.,  211.,  218.,  183.,  189.,  217.,  174.,  175.,\n",
       "         172.,  166.,  166.,  147.,  130.,  140.,  149.,  144.,  156.,\n",
       "         145.,  135.,  124.,  112.,  121.,  121.,  100.,  124.,  102.,\n",
       "          96.,  105.,  116.,   89.]),\n",
       " array([ 0.5       ,  0.70408163,  0.90816327,  1.1122449 ,  1.31632653,\n",
       "         1.52040816,  1.7244898 ,  1.92857143,  2.13265306,  2.33673469,\n",
       "         2.54081633,  2.74489796,  2.94897959,  3.15306122,  3.35714286,\n",
       "         3.56122449,  3.76530612,  3.96938776,  4.17346939,  4.37755102,\n",
       "         4.58163265,  4.78571429,  4.98979592,  5.19387755,  5.39795918,\n",
       "         5.60204082,  5.80612245,  6.01020408,  6.21428571,  6.41836735,\n",
       "         6.62244898,  6.82653061,  7.03061224,  7.23469388,  7.43877551,\n",
       "         7.64285714,  7.84693878,  8.05102041,  8.25510204,  8.45918367,\n",
       "         8.66326531,  8.86734694,  9.07142857,  9.2755102 ,  9.47959184,\n",
       "         9.68367347,  9.8877551 , 10.09183673, 10.29591837, 10.5       ]),\n",
       " <BarContainer object of 49 artists>)"
      ]
     },
     "execution_count": 3,
     "metadata": {},
     "output_type": "execute_result"
    },
    {
     "data": {
      "image/png": "[encoded data removed]",
      "text/plain": [
       "<Figure size 432x288 with 1 Axes>"
      ]
     },
     "metadata": {
      "needs_background": "light"
     },
     "output_type": "display_data"
    }
   ],
   "source": [
    "# sampling with accept-reject  \n",
    "fmax = f(a)\n",
    "xs = []\n",
    "N      = 100000\n",
    "for i in range(N):\n",
    "    x = U()*(b-a) + a\n",
    "    y = U()*fmax\n",
    "    if y < f(x): xs += [x]\n",
    "\n",
    "mybins = np.linspace(0.5, 10.5, 50)\n",
    "print('For N = %d len(xs) = %d performance = %2.3f'%(N, len(xs), float(len(xs))/N))\n",
    "plt.hist(xs, mybins, ec = 'black')"
   ]
  },
  {
   "cell_type": "code",
   "execution_count": null,
   "metadata": {},
   "outputs": [],
   "source": []
  }
 ],
 "metadata": {
  "kernelspec": {
   "display_name": "Python 3",
   "language": "python",
   "name": "python3"
  },
  "language_info": {
   "codemirror_mode": {
    "name": "ipython",
    "version": 3
   },
   "file_extension": ".py",
   "mimetype": "text/x-python",
   "name": "python",
   "nbconvert_exporter": "python",
   "pygments_lexer": "ipython3",
   "version": "3.8.5"
  }
 },
 "nbformat": 4,
 "nbformat_minor": 5
}
