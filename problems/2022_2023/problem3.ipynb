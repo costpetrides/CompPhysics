{
 "cells": [
  {
   "cell_type": "code",
   "execution_count": 1,
   "id": "bc8a4aa2",
   "metadata": {},
   "outputs": [],
   "source": [
    "import numpy as np\n",
    "import matplotlib.pyplot as plt\n",
    "def U(): return np.random.rand()"
   ]
  },
  {
   "cell_type": "code",
   "execution_count": 5,
   "id": "d060b85b",
   "metadata": {},
   "outputs": [
    {
     "data": {
      "text/plain": [
       "(array([  0., 182., 157., 159., 175., 163., 164.]),\n",
       " array([0, 1, 2, 3, 4, 5, 6, 7]),\n",
       " <BarContainer object of 7 artists>)"
      ]
     },
     "execution_count": 5,
     "metadata": {},
     "output_type": "execute_result"
    },
    {
     "data": {
      "image/png": "[encoded data removed]",
      "text/plain": [
       "<Figure size 432x288 with 1 Axes>"
      ]
     },
     "metadata": {
      "needs_background": "light"
     },
     "output_type": "display_data"
    }
   ],
   "source": [
    "def dice():\n",
    "    res = 6\n",
    "    x = U()*6\n",
    "    if x<5: res = 5\n",
    "    if x<4: res = 4\n",
    "    if x<3: res = 3\n",
    "    if x<2: res = 2\n",
    "    if x<1: res = 1\n",
    "    return res\n",
    "\n",
    "dices = [dice() for _ in range(1000)]\n",
    "plt.hist(dices, bins = range(0,8), ec='black')"
   ]
  },
  {
   "cell_type": "code",
   "execution_count": 11,
   "id": "74b9d1a6",
   "metadata": {},
   "outputs": [
    {
     "data": {
      "text/plain": [
       "(array([  0., 172., 177., 155., 151., 173., 172.]),\n",
       " array([0, 1, 2, 3, 4, 5, 6, 7]),\n",
       " <BarContainer object of 7 artists>)"
      ]
     },
     "execution_count": 11,
     "metadata": {},
     "output_type": "execute_result"
    },
    {
     "data": {
      "image/png": "[encoded data removed]",
      "text/plain": [
       "<Figure size 432x288 with 1 Axes>"
      ]
     },
     "metadata": {
      "needs_background": "light"
     },
     "output_type": "display_data"
    }
   ],
   "source": [
    "dices = [int(6*U())+1 for _ in range(1000)] # quick 'n' dirty fair dice\n",
    "plt.hist(dices, bins = range(0,8), ec='black')"
   ]
  },
  {
   "cell_type": "code",
   "execution_count": 17,
   "id": "62172e37",
   "metadata": {},
   "outputs": [
    {
     "data": {
      "text/plain": [
       "(array([  0., 147., 149., 131., 143., 139., 291.]),\n",
       " array([0, 1, 2, 3, 4, 5, 6, 7]),\n",
       " <BarContainer object of 7 artists>)"
      ]
     },
     "execution_count": 17,
     "metadata": {},
     "output_type": "execute_result"
    },
    {
     "data": {
      "image/png": "[encoded data removed]",
      "text/plain": [
       "<Figure size 432x288 with 1 Axes>"
      ]
     },
     "metadata": {
      "needs_background": "light"
     },
     "output_type": "display_data"
    }
   ],
   "source": [
    "def dirtydice():\n",
    "    res = 0\n",
    "    x = U()\n",
    "    if x>0.7: res = 6\n",
    "    if 0.56 < x < 0.7  : res = 5\n",
    "    if 0.42 < x < 0.56 : res = 4\n",
    "    if 0.28 < x < 0.42 : res = 3\n",
    "    if 0.14 < x < 0.28 : res = 2\n",
    "    if 0    < x < 0.14 : res = 1\n",
    "    return res\n",
    "\n",
    "dirtydices = [dirtydice() for _ in range(1000)]\n",
    "plt.hist(dirtydices, bins = range(0,8), ec='black')"
   ]
  },
  {
   "cell_type": "code",
   "execution_count": null,
   "id": "46d07543",
   "metadata": {},
   "outputs": [],
   "source": []
  }
 ],
 "metadata": {
  "kernelspec": {
   "display_name": "Python 3",
   "language": "python",
   "name": "python3"
  },
  "language_info": {
   "codemirror_mode": {
    "name": "ipython",
    "version": 3
   },
   "file_extension": ".py",
   "mimetype": "text/x-python",
   "name": "python",
   "nbconvert_exporter": "python",
   "pygments_lexer": "ipython3",
   "version": "3.9.12"
  }
 },
 "nbformat": 4,
 "nbformat_minor": 5
}
