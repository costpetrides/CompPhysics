{
 "cells": [
  {
   "cell_type": "markdown",
   "metadata": {
    "colab_type": "text",
    "id": "view-in-github"
   },
   "source": [
    "<a href=\"https://colab.research.google.com/github/theofil/CompPhysics/blob/master/examples/LU.ipynb\" target=\"_parent\"><img src=\"https://colab.research.google.com/assets/colab-badge.svg\" alt=\"Open In Colab\"/></a>"
   ]
  },
  {
   "cell_type": "markdown",
   "metadata": {
    "colab_type": "text",
    "id": "vHhY7eK7Gy8m"
   },
   "source": [
    "# LU factorization without pivoting (demo)\n",
    "\n",
    "---\n",
    "\n",
    "code written by Konstantinos Theofilatos on 2019.09.09, with logic inspired by [Greg Fasshauer](http://www.math.iit.edu/~fass/477577_Chapter_7.pdf)\n",
    "\n",
    "---"
   ]
  },
  {
   "cell_type": "code",
   "execution_count": 2,
   "metadata": {
    "colab": {
     "base_uri": "https://localhost:8080/",
     "height": 403
    },
    "colab_type": "code",
    "id": "8gtyTic9M5qc",
    "outputId": "03409c8e-8fcb-4be4-afee-1c77fc1c8b7f"
   },
   "outputs": [
    {
     "name": "stdout",
     "output_type": "stream",
     "text": [
      "Starting LU factorization \n",
      "\n",
      "initialized U to \n",
      " [[ 1.  2.  1.]\n",
      " [ 2.  2.  3.]\n",
      " [-1. -3.  0.]]\n",
      "initialized L to \n",
      " [[1. 0. 0.]\n",
      " [0. 1. 0.]\n",
      " [0. 0. 1.]]\n",
      "L \n",
      " [[ 1.   0.   0. ]\n",
      " [ 2.   1.   0. ]\n",
      " [-1.   0.5  1. ]]\n",
      "U \n",
      " [[ 1.   2.   1. ]\n",
      " [ 0.  -2.   1. ]\n",
      " [ 0.   0.   0.5]]\n",
      "checking that LU - A is the zero matrix \n",
      " [[0. 0. 0.]\n",
      " [0. 0. 0.]\n",
      " [0. 0. 0.]]\n"
     ]
    }
   ],
   "source": [
    "import numpy as np\n",
    "A = np.array([ [1. ,2. , 1. ], \n",
    "               [2. ,2. , 3. ], \n",
    "               [-1., -3., 0.] ], \n",
    "             dtype = float) # make sure the array elements are understood as float\n",
    "\n",
    "print('Starting LU factorization \\n')\n",
    "(n,m) = A.shape\n",
    "if n!=m: print('A is not a square matrix')\n",
    "\n",
    "# initialize U and L\n",
    "U = A.copy() # this is not strictly needed, is more efficient to store U and L inside A\n",
    "L = np.identity(A.shape[0], dtype = float)\n",
    "\n",
    "print('initialized U to \\n', U)\n",
    "print('initialized L to \\n', L)\n",
    "\n",
    "for k in range(n-1):\n",
    "    for j in range(k+1,n):\n",
    "        L[j,k] = U[j,k] / U[k,k]\n",
    "        U[j, k:n] = U[j, k:n] - L[j,k]*U[k,k:n]\n",
    "\n",
    "print('L \\n', L)\n",
    "print('U \\n', U)\n",
    "\n",
    "print('checking that LU - A is the zero matrix \\n', L@U - A)"
   ]
  }
 ],
 "metadata": {
  "colab": {
   "collapsed_sections": [],
   "include_colab_link": true,
   "name": "LU.ipynb",
   "provenance": [],
   "version": "0.3.2"
  },
  "kernelspec": {
   "display_name": "Python 3 (ipykernel)",
   "language": "python",
   "name": "python3"
  },
  "language_info": {
   "codemirror_mode": {
    "name": "ipython",
    "version": 3
   },
   "file_extension": ".py",
   "mimetype": "text/x-python",
   "name": "python",
   "nbconvert_exporter": "python",
   "pygments_lexer": "ipython3",
   "version": "3.10.9"
  }
 },
 "nbformat": 4,
 "nbformat_minor": 1
}
