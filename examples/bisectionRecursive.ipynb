{
 "cells": [
  {
   "cell_type": "code",
   "execution_count": 1,
   "id": "70b507de",
   "metadata": {},
   "outputs": [],
   "source": [
    "# Recursive implementation of Bisection\n",
    "# written by KT 13.11.2023\n",
    "import numpy as np"
   ]
  },
  {
   "cell_type": "code",
   "execution_count": 2,
   "id": "92f9eb66",
   "metadata": {},
   "outputs": [],
   "source": [
    "# def bisection(f, a, b, depth = 0, debug = True):\n",
    "#     maxDepth = 2900\n",
    "#     '''returns root of f, recursive implementation of bisection'''\n",
    "#     depth += 1\n",
    "#     c = a + (b-a)*0.5\n",
    "\n",
    "#     if( np.sign(f(a))*np.sign(f(b))>0 ): # checking just signs is faster than multiplying floats\n",
    "#         if debug: print(\"check point 0\")\n",
    "#         print(\"can't apply bisection in [%3.3f, %3.3f] f(a) = %3.3f  f(b) = %3.3f depth = %d\"%(a, b, f(a), f(b), depth))\n",
    "#         depth = maxDepth\n",
    "#     else: \n",
    "#         if debug: print(\"check point 1\")\n",
    "#         c = a + (b-a)*0.5\n",
    "#         if (np.sign(f(a))*np.sign(f(c))<0): b = c\n",
    "#         else: a = c\n",
    "\n",
    "#     if( abs(f(c))>1.e-10 and depth < maxDepth):\n",
    "#         if debug: print(\"check point 2\")\n",
    "#         c = bisection(f, a, b, depth) \n",
    "#     else: \n",
    "#         if debug: print(\"check point 3\")\n",
    "\n",
    "#         return c\n",
    "  \n",
    "#     if debug: print(\"check point 4\")\n",
    "#     return c\n"
   ]
  },
  {
   "cell_type": "code",
   "execution_count": 41,
   "id": "56e5008f",
   "metadata": {},
   "outputs": [],
   "source": [
    "def bisection(f, a, b, depth = 0):\n",
    "    maxDepth = 2900\n",
    "    '''returns root of f, recursive implementation of bisection'''\n",
    "    depth += 1\n",
    "    c = a + (b-a)*0.5\n",
    "\n",
    "    if( np.sign(f(a))*np.sign(f(b))>0 ): # checking just signs is faster than multiplying floats\n",
    "        print(\"can't apply bisection in [%3.3f, %3.3f] f(a) = %3.3f  f(b) = %3.3f depth = %d\"%(a, b, f(a), f(b), depth))\n",
    "        depth = maxDepth\n",
    "        \n",
    "    else: \n",
    "        if( abs(f(c))>1.e-8 and depth < maxDepth ):\n",
    "            if (np.sign(f(a))*np.sign(f(c))<0): b = c\n",
    "            else: a = c\n",
    "            c = bisection(f, a, b, depth) \n",
    "            \n",
    "    return c\n"
   ]
  },
  {
   "cell_type": "code",
   "execution_count": 42,
   "id": "6b3a3822",
   "metadata": {},
   "outputs": [
    {
     "name": "stdout",
     "output_type": "stream",
     "text": [
      "can't apply bisection in [-10.000, 10.000] f(a) = 144.000  f(b) = 64.000 depth = 1\n"
     ]
    },
    {
     "data": {
      "text/plain": [
       "0.0"
      ]
     },
     "execution_count": 42,
     "metadata": {},
     "output_type": "execute_result"
    }
   ],
   "source": [
    "f = lambda x : (x-2)**2\n",
    "bisection(f, -10, 10)"
   ]
  },
  {
   "cell_type": "code",
   "execution_count": 43,
   "id": "4908c71c",
   "metadata": {},
   "outputs": [
    {
     "data": {
      "text/plain": [
       "1.2599210515618324"
      ]
     },
     "execution_count": 43,
     "metadata": {},
     "output_type": "execute_result"
    }
   ],
   "source": [
    "f = lambda x : x**3 - 2\n",
    "bisection(f, -2, 2)"
   ]
  },
  {
   "cell_type": "code",
   "execution_count": 44,
   "id": "f3583ec2",
   "metadata": {},
   "outputs": [
    {
     "name": "stdout",
     "output_type": "stream",
     "text": [
      "root found at 0.5236\n",
      "π/6 = 0.5236\n"
     ]
    }
   ],
   "source": [
    "f = lambda x : np.sin(x) - 0.5\n",
    "print('root found at %2.4f'%bisection(f, 0, 1))\n",
    "print('π/6 = %2.4f'%(np.pi/6.))"
   ]
  },
  {
   "cell_type": "code",
   "execution_count": null,
   "id": "ea741fd6",
   "metadata": {},
   "outputs": [],
   "source": []
  }
 ],
 "metadata": {
  "kernelspec": {
   "display_name": "Python 3 (ipykernel)",
   "language": "python",
   "name": "python3"
  },
  "language_info": {
   "codemirror_mode": {
    "name": "ipython",
    "version": 3
   },
   "file_extension": ".py",
   "mimetype": "text/x-python",
   "name": "python",
   "nbconvert_exporter": "python",
   "pygments_lexer": "ipython3",
   "version": "3.10.9"
  }
 },
 "nbformat": 4,
 "nbformat_minor": 5
}
