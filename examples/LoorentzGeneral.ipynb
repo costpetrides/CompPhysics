{
 "cells": [
  {
   "cell_type": "code",
   "execution_count": 82,
   "id": "baa34e6b",
   "metadata": {},
   "outputs": [],
   "source": [
    "# Code by Konstantinos Theofilatos 04.11.2023\n",
    "import numpy as np\n",
    "import matplotlib.pyplot as plt\n",
    "plt.rc('font', size=20) \n",
    "import fractions"
   ]
  },
  {
   "cell_type": "code",
   "execution_count": 83,
   "id": "4470991f",
   "metadata": {},
   "outputs": [],
   "source": [
    "# Lorentz boost for a generic velocity\n",
    "def Λ(vx, vy, vz):\n",
    "    v  = (vx**2 + vy**2 + vz**2)**0.5\n",
    "    γ  = (1 - v**2)**(-0.5)\n",
    "   \n",
    "    G = np.array([[     γ,                 -γ*vx,                -γ*vy,               -γ*vz],\n",
    "                  [ -γ*vx,   1 + (γ-1)*(vx/v)**2,   (γ-1)*(vx*vy)/v**2,  (γ-1)*(vx*vz)/v**2],\n",
    "                  [ -γ*vy,    (γ-1)*(vx*vy)/v**2,  1 + (γ-1)*(vy/v)**2,  (γ-1)*(vy*vz)/v**2],\n",
    "                  [ -γ*vz,    (γ-1)*(vz*vx)/v**2,   (γ-1)*(vy*vz)/v**2, 1 + (γ-1)*(vz/v)**2]\n",
    "                 ]\n",
    "                )    \n",
    "    return G\n",
    "\n",
    "η= np.array([\n",
    "        [-1, 0, 0, 0],\n",
    "        [0 , 1, 0, 0],\n",
    "        [0 , 0, 1, 0],\n",
    "        [0 , 0, 0, 1]\n",
    "    ])\n",
    "\n",
    "cos = lambda θ: np.cos(θ)\n",
    "sin = lambda θ: np.sin(θ)\n",
    "tan = lambda θ: np.tan(θ)\n",
    "\n",
    "γ   = lambda u: (1-u*u)**-0.5 # γ(u)\n",
    "\n",
    "def Rz(θ):\n",
    "    '''Rotation by theta in the x-y plane'''\n",
    "    R = np.array([\n",
    "                 [1   ,     0 ,       0,   0],\n",
    "                 [0   , cos(θ), -sin(θ),   0],\n",
    "                 [0   , sin(θ),  cos(θ),   0],\n",
    "                 [0   ,     0 ,       0,   1],\n",
    "                 ], dtype=object)\n",
    "    return R"
   ]
  },
  {
   "cell_type": "code",
   "execution_count": 84,
   "id": "81f42105",
   "metadata": {},
   "outputs": [
    {
     "name": "stdout",
     "output_type": "stream",
     "text": [
      "θ = -0.48996\n"
     ]
    }
   ],
   "source": [
    "u    = 4/5.\n",
    "L    = Λ( 0,  u, 0)@Λ( u,  0, 0)\n",
    "Linv = Λ(-u,  0, 0)@Λ( 0, -u, 0)\n",
    "Γ    = Λ(u, u/γ(u), 0)\n",
    "θ    = -np.arctan(γ(u)*γ(u)*u*u/(γ(u) + γ(u)))\n",
    "print('θ = %2.5f'%θ)"
   ]
  },
  {
   "cell_type": "code",
   "execution_count": 94,
   "id": "02a1a3f2",
   "metadata": {},
   "outputs": [
    {
     "name": "stdout",
     "output_type": "stream",
     "text": [
      "[[-1.00e+00 -6.69e-16 -6.58e-17  0.00e+00]\n",
      " [-6.69e-16  1.00e+00  1.56e-16  0.00e+00]\n",
      " [-6.58e-17  1.56e-16  1.00e+00  0.00e+00]\n",
      " [ 0.00e+00  0.00e+00  0.00e+00  1.00e+00]]\n"
     ]
    }
   ],
   "source": [
    "print(L.T@η@L)"
   ]
  },
  {
   "cell_type": "code",
   "execution_count": 97,
   "id": "49d08955",
   "metadata": {},
   "outputs": [
    {
     "name": "stdout",
     "output_type": "stream",
     "text": [
      "[[2.78 1.33 2.22 0.  ]\n",
      " [2.22 1.67 1.78 0.  ]\n",
      " [1.33 0.   1.67 0.  ]\n",
      " [0.   0.   0.   1.  ]]\n"
     ]
    }
   ],
   "source": [
    "print((η@L.T@η))"
   ]
  },
  {
   "cell_type": "code",
   "execution_count": 96,
   "id": "fd42b5cc",
   "metadata": {},
   "outputs": [
    {
     "name": "stdout",
     "output_type": "stream",
     "text": [
      "[[2.78 1.33 2.22 0.  ]\n",
      " [2.22 1.67 1.78 0.  ]\n",
      " [1.33 0.   1.67 0.  ]\n",
      " [0.   0.   0.   1.  ]]\n"
     ]
    }
   ],
   "source": [
    "print(Linv)"
   ]
  },
  {
   "cell_type": "code",
   "execution_count": null,
   "id": "9499a50a",
   "metadata": {},
   "outputs": [],
   "source": []
  }
 ],
 "metadata": {
  "kernelspec": {
   "display_name": "Python 3 (ipykernel)",
   "language": "python",
   "name": "python3"
  },
  "language_info": {
   "codemirror_mode": {
    "name": "ipython",
    "version": 3
   },
   "file_extension": ".py",
   "mimetype": "text/x-python",
   "name": "python",
   "nbconvert_exporter": "python",
   "pygments_lexer": "ipython3",
   "version": "3.10.9"
  }
 },
 "nbformat": 4,
 "nbformat_minor": 5
}
