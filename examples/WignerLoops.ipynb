{
 "cells": [
  {
   "cell_type": "code",
   "execution_count": null,
   "metadata": {
    "id": "AZ_m999nZxy7"
   },
   "outputs": [],
   "source": [
    "# Performing a sequence of (non-)collinear boosts in any direction\n",
    "# Code by Konstantinos Theofilatos 01.04.2021\n",
    "import numpy as np\n",
    "import matplotlib.pyplot as plt\n",
    "plt.rc('font', size=20) "
   ]
  },
  {
   "cell_type": "code",
   "execution_count": null,
   "metadata": {
    "id": "palr-jqIaznq"
   },
   "outputs": [],
   "source": [
    "# Lorentz boost for a generic velocity\n",
    "def Γ(vx, vy, vz):\n",
    "    v  = (vx**2 + vy**2 + vz**2)**0.5\n",
    "    γ  = (1 - v**2)**(-0.5)\n",
    "   \n",
    "    G = np.array([[     γ,                 -γ*vx,                -γ*vy,               -γ*vz],\n",
    "                  [ -γ*vx,   1 + (γ-1)*(vx/v)**2,   (γ-1)*(vx*vy)/v**2,  (γ-1)*(vx*vz)/v**2],\n",
    "                  [ -γ*vy,    (γ-1)*(vx*vy)/v**2,  1 + (γ-1)*(vy/v)**2,  (γ-1)*(vy*vz)/v**2],\n",
    "                  [ -γ*vz,    (γ-1)*(vz*vx)/v**2,   (γ-1)*(vy*vz)/v**2, 1 + (γ-1)*(vz/v)**2]\n",
    "                 ]\n",
    "                )    \n",
    "    return G\n",
    "\n",
    "η= np.array([\n",
    "        [-1, 0, 0, 0],\n",
    "        [0 , 1, 0, 0],\n",
    "        [0 , 0, 1, 0],\n",
    "        [0 , 0, 0, 1]\n",
    "    ])"
   ]
  },
  {
   "cell_type": "code",
   "execution_count": null,
   "metadata": {
    "colab": {
     "base_uri": "https://localhost:8080/",
     "height": 1000
    },
    "id": "_LbQS-T7aQjQ",
    "outputId": "43e2d079-7012-4118-ab89-7eea46c731fc"
   },
   "outputs": [],
   "source": [
    "N = 100 # number of loops\n",
    "u = 0.5 # velocity of each boost\n",
    "W = Γ(0,-u,0)@Γ(-u,0,0)@Γ(0,u,0)@Γ(u,0,0) # a Wigner loop matrix product \n",
    "\n",
    "\n",
    "t, x, y, z = 0, 1, 0, 0 # initial four vector                      \n",
    "xμ = np.array([[t],[x],[y],[z]])  \n",
    "#print(xμ)                                          \n",
    "\n",
    "ts = []  # lists to store t-component of the for vector for each loop \n",
    "xs = []  # same for x,y,z-components\n",
    "ys = []  \n",
    "zs = []\n",
    "for i in range(N): # perform N Wigner Loops\n",
    "    xμ = W@xμ      # xμ' = W xμ  \n",
    "    ts += [xμ[0][0]]   # t-component of xμ\n",
    "    xs += [xμ[1][0]]   # x-component of xμ\n",
    "    ys += [xμ[2][0]]\n",
    "    zs += [xμ[3][0]]\n",
    "    #print(xμ)\n",
    "    #print(' ')\n",
    "\n",
    "# plot the components xμ for each N    \n",
    "fig, ax = plt.subplots(4,1, figsize = (10,20)) \n",
    "ax[0].plot(ts)\n",
    "ax[0].set_ylabel('t')\n",
    "ax[0].set_xlabel('N')\n",
    "\n",
    "ax[1].plot(xs)\n",
    "ax[1].set_ylabel('x')\n",
    "ax[1].set_xlabel('N')\n",
    "\n",
    "ax[2].plot(ys)\n",
    "ax[2].set_ylabel('y')\n",
    "ax[2].set_xlabel('N')\n",
    "\n",
    "ax[3].plot(zs)\n",
    "ax[3].set_ylabel('z')\n",
    "ax[3].set_xlabel('N')\n",
    "\n",
    "\n",
    "fig, ax = plt.subplots(2,1, figsize = (5,10))\n",
    "\n",
    "ax[0].plot(xs, ys)\n",
    "ax[0].set_ylabel('y')\n",
    "ax[0].set_xlabel('x')\n",
    "ax[0].grid(True)\n",
    "\n",
    "ax[1].plot(xs, ts)\n",
    "ax[1].set_ylabel('t')\n",
    "ax[1].set_xlabel('x')\n",
    "ax[1].grid(True)"
   ]
  },
  {
   "cell_type": "code",
   "execution_count": null,
   "metadata": {},
   "outputs": [],
   "source": []
  }
 ],
 "metadata": {
  "colab": {
   "authorship_tag": "ABX9TyOlwj23eE48a/RegA7EADd2",
   "collapsed_sections": [],
   "include_colab_link": true,
   "name": "WignerLoops.ipynb",
   "provenance": []
  },
  "kernelspec": {
   "display_name": "Python 3 (ipykernel)",
   "language": "python",
   "name": "python3"
  },
  "language_info": {
   "codemirror_mode": {
    "name": "ipython",
    "version": 3
   },
   "file_extension": ".py",
   "mimetype": "text/x-python",
   "name": "python",
   "nbconvert_exporter": "python",
   "pygments_lexer": "ipython3",
   "version": "3.10.9"
  }
 },
 "nbformat": 4,
 "nbformat_minor": 1
}
