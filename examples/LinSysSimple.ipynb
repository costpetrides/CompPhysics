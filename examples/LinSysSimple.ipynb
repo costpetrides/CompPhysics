{
 "cells": [
  {
   "cell_type": "markdown",
   "metadata": {
    "colab_type": "text",
    "id": "view-in-github"
   },
   "source": [
    "<a href=\"https://colab.research.google.com/github/theofil/CompPhysics/blob/master/examples/LinSysSimple.ipynb\" target=\"_parent\"><img src=\"https://colab.research.google.com/assets/colab-badge.svg\" alt=\"Open In Colab\"/></a>"
   ]
  },
  {
   "cell_type": "code",
   "execution_count": 3,
   "metadata": {
    "colab": {
     "base_uri": "https://localhost:8080/",
     "height": 52
    },
    "colab_type": "code",
    "id": "T9vOMsYgfiYK",
    "outputId": "8f38c97d-7fb5-4ba5-ed12-4bcd11ab5caa"
   },
   "outputs": [
    {
     "name": "stdout",
     "output_type": "stream",
     "text": [
      "X = (4.990474013107758, 4.992061677589798, 4.9960308387948995) at n = 5 of gauss seidel iterations\n",
      "X = (4.922839506172839, 4.819958847736625, 4.8842592592592595) at n = 5 of jacobi iterations\n"
     ]
    }
   ],
   "source": [
    "### Solving AX = b with Gauss Seidel and Jacobi iterative methods\n",
    "### demo written by Konstantinos Theofilatos 20.10.2019\n",
    "#\n",
    "#      3. -1.  0\n",
    "# A = -1.  3. -1\n",
    "#      0. -2.  4.    \n",
    "# \n",
    "#      10\n",
    "# b =   5\n",
    "#      10\n",
    "def gs(x1, x2, x3, nIter = 100, n = 0):\n",
    "    '''gauss seidel method for the problem discussed in the class'''\n",
    "    if n < nIter:\n",
    "        x1 = (10 + x2)/3.\n",
    "        x2 = (5 + x1 + x3)/3.\n",
    "        x3 = (10 + 2*x2)/4.\n",
    "        n = n + 1\n",
    "        gs(x1, x2, x3, nIter, n)\n",
    "    else: \n",
    "        print(f'X = ({x1}, {x2}, {x3}) at n = {n} of gauss seidel iterations')\n",
    "           \n",
    "x1, x2, x3 = 1., 2. , 3. # initial values for x1, x2, x3\n",
    "gs(x1, x2, x2, 5)\n",
    "\n",
    "\n",
    "def jacobi(x1, x2, x3, nIter = 100, n = 0):\n",
    "    '''jacobi method for the problem discussed in the class'''\n",
    "    if n < nIter:\n",
    "        j1, j2, j3 = x1, x2, x3\n",
    "        x1 = (10 + j2)/3.\n",
    "        x2 = (5 + j1 + j3)/3.\n",
    "        x3 = (10 + 2*j2)/4.\n",
    "        n = n + 1\n",
    "        jacobi(x1, x2, x3, nIter, n)\n",
    "    else: \n",
    "        print(f'X = ({x1}, {x2}, {x3}) at n = {n} of jacobi iterations')\n",
    "\n",
    "\n",
    "x1, x2, x3 = 1., 2. , 3. # initial values for x1, x2, x3\n",
    "jacobi(x1, x2, x2, 5)    "
   ]
  },
  {
   "cell_type": "code",
   "execution_count": 0,
   "metadata": {
    "colab": {},
    "colab_type": "code",
    "id": "MZEPS5K5fsHW"
   },
   "outputs": [],
   "source": []
  }
 ],
 "metadata": {
  "colab": {
   "include_colab_link": true,
   "name": "LinSysSimple.ipynb",
   "provenance": []
  },
  "kernelspec": {
   "display_name": "Python 3 (ipykernel)",
   "language": "python",
   "name": "python3"
  },
  "language_info": {
   "codemirror_mode": {
    "name": "ipython",
    "version": 3
   },
   "file_extension": ".py",
   "mimetype": "text/x-python",
   "name": "python",
   "nbconvert_exporter": "python",
   "pygments_lexer": "ipython3",
   "version": "3.10.9"
  }
 },
 "nbformat": 4,
 "nbformat_minor": 1
}
